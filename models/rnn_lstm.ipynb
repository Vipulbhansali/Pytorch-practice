{
 "cells": [
  {
   "cell_type": "code",
   "execution_count": 1,
   "metadata": {},
   "outputs": [],
   "source": [
    "import torch\n",
    "import torch.nn as nn\n",
    "import torch.optim as optim\n",
    "from torch.utils.data import DataLoader, TensorDataset"
   ]
  },
  {
   "cell_type": "code",
   "execution_count": 6,
   "metadata": {},
   "outputs": [],
   "source": [
    "class rnn (nn.Module) :\n",
    "\n",
    "    def __init__(self,hidden_size, input_size, output_size):\n",
    "        super(rnn, self).__init__()\n",
    "\n",
    "        self.hidden_size = hidden_size\n",
    "        self.i2h = nn.Linear(hidden_size+input_size, hidden_size)\n",
    "        self.i2o = nn.Linear(input_size + hidden_size , output_size)\n",
    "        self.softmax = nn.LogSoftmax(dim = 1)\n",
    "\n",
    "    def forward(self, input, hidden):\n",
    "        combined = torch.cat((input,hidden),1)\n",
    "        hidden = self.i2h(combined)\n",
    "        output = self.i2o(combined)\n",
    "        output = self.softmax(output)\n",
    "        \n",
    "        return output, hidden\n",
    "\n",
    "    def init_hidden(self):\n",
    "\n",
    "        return torch.zeros(1, self.hidden_size)"
   ]
  },
  {
   "cell_type": "code",
   "execution_count": 7,
   "metadata": {},
   "outputs": [],
   "source": [
    "n_samples = 1000\n",
    "input_size = 15\n",
    "output_size = 2\n",
    "hidden_size = 20 \n",
    "\n",
    "\n",
    "# Generate random data\n",
    "X = torch.randn(n_samples, input_size)\n",
    "y = torch.randint(0, output_size, (n_samples,))\n",
    "\n",
    "train_dataset = TensorDataset(X, y)\n",
    "train_loader = DataLoader(train_dataset, batch_size=5, shuffle=True)"
   ]
  },
  {
   "cell_type": "code",
   "execution_count": 11,
   "metadata": {},
   "outputs": [
    {
     "name": "stdout",
     "output_type": "stream",
     "text": [
      "Epoch: 0  Loss: 0.7219048738479614\n",
      "Epoch: 10  Loss: 0.6429959535598755\n",
      "Epoch: 20  Loss: 0.7288631796836853\n",
      "Epoch: 30  Loss: 0.6572973132133484\n",
      "Epoch: 40  Loss: 0.7310658693313599\n",
      "Epoch: 50  Loss: 0.6076589822769165\n",
      "Epoch: 60  Loss: 0.8018785715103149\n",
      "Epoch: 70  Loss: 0.6949945092201233\n",
      "Epoch: 80  Loss: 0.7895050048828125\n",
      "Epoch: 90  Loss: 0.5974259376525879\n"
     ]
    }
   ],
   "source": [
    "model = rnn(hidden_size, input_size, output_size)\n",
    "criterion = nn.NLLLoss()\n",
    "optimizer = optim.SGD(model.parameters(), lr=0.01)\n",
    "\n",
    "# Training loop\n",
    "n_epochs = 100\n",
    "\n",
    "for epoch in range(n_epochs):\n",
    "    for x_batch, y_batch in train_loader:\n",
    "        hidden = model.init_hidden().repeat(x_batch.size(0), 1)  \n",
    "\n",
    "        optimizer.zero_grad()\n",
    "        output, hidden = model(x_batch, hidden)  \n",
    "\n",
    "        loss = criterion(output, y_batch)  \n",
    "        loss.backward()\n",
    "        optimizer.step()\n",
    "\n",
    "    if epoch % 10 == 0:\n",
    "        print(f'Epoch: {epoch}  Loss: {loss.item()}')"
   ]
  },
  {
   "cell_type": "code",
   "execution_count": null,
   "metadata": {},
   "outputs": [],
   "source": []
  }
 ],
 "metadata": {
  "kernelspec": {
   "display_name": "torch",
   "language": "python",
   "name": "python3"
  },
  "language_info": {
   "codemirror_mode": {
    "name": "ipython",
    "version": 3
   },
   "file_extension": ".py",
   "mimetype": "text/x-python",
   "name": "python",
   "nbconvert_exporter": "python",
   "pygments_lexer": "ipython3",
   "version": "3.8.19"
  }
 },
 "nbformat": 4,
 "nbformat_minor": 2
}
